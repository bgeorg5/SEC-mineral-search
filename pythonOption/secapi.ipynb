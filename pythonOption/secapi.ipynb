{
 "cells": [
  {
   "cell_type": "markdown",
   "id": "8d48c3da-77bc-4b96-9857-dbb43fbc1517",
   "metadata": {},
   "source": [
    "# Gameplan\n",
    "\n",
    "## Columns to Fill\n",
    "* company \n",
    "* year\n",
    "* minerals (boolean of each)\n",
    "    - Lithium\n",
    "    - Cobalt\n",
    "    - Gold\n",
    "    - Copper\n",
    "    - Gallium\n",
    "    - Aluminum\n",
    "    - Nickel\n",
    "    - Silicon\n",
    "    - Germanium\n",
    "* traceability scheme\n",
    "    - Responsible Minerals Initiative - RMI\n",
    "    - Responsible Business Alliance - RBA\n",
    "    - Fair Trade\n",
    "* region  of company based \n",
    "* indutry association\n",
    "\n",
    "## Order of Operations \n",
    "* Query all SD, grab name, year throw into list\n",
    "* list of minerals\n",
    "* list of traceability schemes\n",
    "* Loop for name + evaluate if mineral vluaes and traceablity scheme values are true, grab year "
   ]
  },
  {
   "cell_type": "markdown",
   "id": "3048ba7e-795c-449b-86c4-796663affe8b",
   "metadata": {},
   "source": [
    "for seraching for metals, best to start search after \"appendix A\""
   ]
  },
  {
   "cell_type": "code",
   "execution_count": 1,
   "id": "7e4c898b-68bb-4910-af34-dcfcdbd7e864",
   "metadata": {},
   "outputs": [],
   "source": [
    "key= 'c66678a9d89152e72561cc65177356370a90e7ff6aaf7354535c2c7e95c8515f'\n"
   ]
  },
  {
   "cell_type": "code",
   "execution_count": 2,
   "id": "c219171d-2d22-424d-8e56-463fcc66c7a0",
   "metadata": {},
   "outputs": [
    {
     "data": {
      "text/html": [
       "<h1>Impressive!</h1>"
      ],
      "text/plain": [
       "<IPython.core.display.HTML object>"
      ]
     },
     "metadata": {},
     "output_type": "display_data"
    }
   ],
   "source": [
    "import pandas as pd\n",
    "import numpy as np\n",
    "\n",
    "\n",
    "# to get filings\n",
    "from sec_api import FullTextSearchApi\n",
    "fullTextSearchApi = FullTextSearchApi(api_key=key)\n",
    "\n",
    "#getting the actual text document \n",
    "from sec_api import RenderApi\n",
    "ra = RenderApi(api_key=key)\n",
    "\n",
    "# for looking at the html in the jupyter notebook\n",
    "from IPython.display import display, HTML\n",
    "display(HTML('<h1>Impressive!</h1>'))"
   ]
  },
  {
   "cell_type": "markdown",
   "id": "b96b448f",
   "metadata": {},
   "source": [
    "* get SD filings from company name, date range, and formtype SD\n",
    "* filter results for company name - meta data json\n",
    "* parsedoc on the results and throw results into a csv"
   ]
  },
  {
   "cell_type": "code",
   "execution_count": 5,
   "id": "17748922-dcd5-4d2b-8d00-00f3ffbfecb0",
   "metadata": {},
   "outputs": [
    {
     "data": {
      "text/html": [
       "<div>\n",
       "<style scoped>\n",
       "    .dataframe tbody tr th:only-of-type {\n",
       "        vertical-align: middle;\n",
       "    }\n",
       "\n",
       "    .dataframe tbody tr th {\n",
       "        vertical-align: top;\n",
       "    }\n",
       "\n",
       "    .dataframe thead th {\n",
       "        text-align: right;\n",
       "    }\n",
       "</style>\n",
       "<table border=\"1\" class=\"dataframe\">\n",
       "  <thead>\n",
       "    <tr style=\"text-align: right;\">\n",
       "      <th></th>\n",
       "      <th>col1</th>\n",
       "      <th>col2</th>\n",
       "    </tr>\n",
       "  </thead>\n",
       "  <tbody>\n",
       "    <tr>\n",
       "      <th>0</th>\n",
       "      <td>1</td>\n",
       "      <td>3</td>\n",
       "    </tr>\n",
       "    <tr>\n",
       "      <th>1</th>\n",
       "      <td>2</td>\n",
       "      <td>4</td>\n",
       "    </tr>\n",
       "  </tbody>\n",
       "</table>\n",
       "</div>"
      ],
      "text/plain": [
       "   col1  col2\n",
       "0     1     3\n",
       "1     2     4"
      ]
     },
     "execution_count": 5,
     "metadata": {},
     "output_type": "execute_result"
    }
   ],
   "source": [
    "## create temp table \n",
    "d = {'col1': [1, 2], 'col2': [3, 4]}\n",
    "df = pd.DataFrame(data=d)\n",
    "df"
   ]
  },
  {
   "cell_type": "code",
   "execution_count": 78,
   "id": "01cbe626-0efd-45ff-a3dc-ec7278c0facc",
   "metadata": {},
   "outputs": [
    {
     "data": {
      "text/plain": [
       "{'query': 'Tesla', 'formTypes': ['SD']}"
      ]
     },
     "execution_count": 78,
     "metadata": {},
     "output_type": "execute_result"
    }
   ],
   "source": [
    "mineralKeyword = {\n",
    "    \"tableMineralsList\" : [\">Cobalt<\",\">Tin<\",\">Lithium<\", \">Gold<\", \">Copper<\", \">Gallium<\", \">Aluminum<\", \">Nickel<\", \">Silicon<\", \">Germanium<\"],\n",
    "    \"mineralsList\"      : [\"Cobalt\", \"Lithium\", \"Gold\", \"Copper\", \"Gallium\", \"Aluminum\", \"Nickel\", \"Silicon\", \"Germanium\"],\n",
    "    \"mineralsString\"    : \" \\\"Cobalt\\\" OR \\\"Lithium\\\" OR \\\"Gold\\\" OR \\\"Copper\\\" OR \\\"Gallium\\\" OR \\\"Aluminum\\\" OR \\\"Nickel\\\" OR \\\"Silicon\\\" OR \\\"Germanium\\\" \",\n",
    "    \"companies\"         : [\"Tesla\",\"Microsoft\", \"Micron\", \"Analog Devices\", \"Qorvo\", \"Qualcomm\", \"Lam Research Corporation\", \"Motorino\", \"Greenwit Technologies\", \"AllCell Technologies\", \"Bird Rides\", \"Hyundai\", \"SK Innovation\", \"Volkswagen\", \"Renault\", \"Nissan\", \"Mitsubishi\", \"Renault-Nissan-Mitsubishi-Alliance\", \"General Motors\", \"Toyota\", \"Missouri Cobalt\", \"L-H Battery\", \"Ultium\", \"LG Energy Solution\", \"Samsung\", \"Ford\",  \"Vale S.A.\", \"Li-Cycle Holdings\", \"Ascend Elements\", \"Electra\", \"Panasonic\", \"Neutron Holdings\", \"Mahindra\", \"EVelution Energy\"],\n",
    "    \"cik\"               : [\"0001318605\", \"0000789019\", \"0000723125\", \"0000006281\", \"0001604778\", \"0000804328\", \"0000707549\"],\n",
    "    \"auditors\"          : [\"Responsible Minerals Initiative\", \"RMI\", \"Responsible Business Alliance\", \"RBA\", \"Fair Trade\"],\n",
    "    \"formTypes\"         : [\"SD\"]\n",
    "}\n",
    "\n",
    "\n",
    "\n",
    "\n",
    "#searchstring = \"\\\"\" + mineralKeyword[\"companies\"][0] + \"\\\"\" + ' AND ' +mineralKeyword[\"mineralsString\"]  # this doesn't return only tesla\n",
    "params = {\n",
    "  \"query\": mineralKeyword[\"companies\"][0] ,\n",
    "  \"formTypes\": mineralKeyword[\"formTypes\"],\n",
    "}\n",
    "params"
   ]
  },
  {
   "cell_type": "code",
   "execution_count": 115,
   "id": "e872c9d7",
   "metadata": {},
   "outputs": [],
   "source": [
    "csvData = {\n",
    "  \"companyName\": [],\n",
    "  \"filingDate\": [],\n",
    "  \"tableMineralArray\": [],\n",
    "  #\"mineralsArray\": [],\n",
    "  \"auditors\": [],\n",
    "  \"filingUrl\": [],\n",
    "  \"cik\": [],\n",
    "  \"accessionNo\" :[]\n",
    "}\n",
    "response = fullTextSearchApi.get_filings(params)\n",
    "filings = response['filings']\n",
    "metalKeywords = mineralKeyword[\"tableMineralsList\"]\n",
    "auditKeywords = mineralKeyword[\"auditors\"]\n",
    "def parseDoc(filings,csvData,metalKeywords,auditKeywords):\n",
    "  for i in filings:\n",
    "    print(i[\"companyNameLong\"])\n",
    "    ##if 'tesla' in i[\"companyNameLong\"].lower(): ## Optional\n",
    "    tempMetalList = []\n",
    "    tempAuditorList = []\n",
    "    \n",
    "    test_url = i[\"filingUrl\"]\n",
    "    doc_html = ra.get_filing(test_url)\n",
    "\n",
    "    ## parse doc for the metals\n",
    "    for k in metalKeywords:\n",
    "      metalresult = doc_html.lower().find(k.lower()) \n",
    "      if metalresult > 0: \n",
    "        tempMetalList.append(k.replace('>', \"\").replace('<', \"\"))\n",
    "\n",
    "    ## parse doc for the auditors\n",
    "    for a in auditKeywords:\n",
    "      auditresult = doc_html.lower().find(a.lower()) \n",
    "      if auditresult > 0: \n",
    "        tempAuditorList.append(a)\n",
    "\n",
    "    ## Add everything to the dictionary\n",
    "    if len(tempMetalList) < 1: \n",
    "      csvData[\"tableMineralArray\"].append(['no table metals found'])\n",
    "    else:\n",
    "      csvData[\"tableMineralArray\"].append(tempMetalList)\n",
    "\n",
    "    if len(tempAuditorList) < 1: \n",
    "      csvData[\"auditors\"].append(['no auditors found'])\n",
    "    else:\n",
    "      csvData[\"auditors\"].append(tempAuditorList)\n",
    "\n",
    "    csvData[\"companyName\"].append(i[\"companyNameLong\"])\n",
    "    csvData[\"filingDate\"].append(i[\"filedAt\"])\n",
    "    csvData[\"filingUrl\"].append(i[\"filingUrl\"])\n",
    "    csvData[\"cik\"].append(i[\"cik\"])\n",
    "    csvData[\"accessionNo\"].append(i[\"accessionNo\"])\n",
    "\n",
    "  #tab = pd.DataFrame(data=csvData) ## save this for the for loop through the companies \n",
    "  return csvData\n",
    "\n",
    "#csvData"
   ]
  },
  {
   "cell_type": "code",
   "execution_count": 123,
   "id": "99288627",
   "metadata": {},
   "outputs": [],
   "source": [
    "def searchApiCall(params,csvData,metalKeywords,auditKeywords):\n",
    "  response = fullTextSearchApi.get_filings(params)\n",
    "  filings = response[\"filings\"] \n",
    "  cf = parseDoc(filings,csvData,metalKeywords,auditKeywords)\n",
    "  return cf"
   ]
  },
  {
   "cell_type": "code",
   "execution_count": 122,
   "id": "72277157",
   "metadata": {},
   "outputs": [
    {
     "data": {
      "text/plain": [
       "{'query': 'Tesla', 'formTypes': ['SD']}"
      ]
     },
     "execution_count": 122,
     "metadata": {},
     "output_type": "execute_result"
    }
   ],
   "source": [
    "\n",
    "params = {\n",
    "  \"query\": mineralKeyword[\"companies\"][0] ,\n",
    "  \"formTypes\": mineralKeyword[\"formTypes\"],\n",
    "}\n",
    "params"
   ]
  },
  {
   "cell_type": "code",
   "execution_count": 124,
   "id": "60c4fec3",
   "metadata": {},
   "outputs": [
    {
     "name": "stdout",
     "output_type": "stream",
     "text": [
      "Tesla, Inc. (TSLA) (CIK 0001318605)\n",
      "Tesla, Inc. (TSLA) (CIK 0001318605)\n",
      "Vizio Holding Corp. (VZIO) (CIK 0001835591)\n"
     ]
    }
   ],
   "source": [
    "#filings = response['filings']\n",
    "metalKeywords = mineralKeyword[\"tableMineralsList\"]\n",
    "auditKeywords = mineralKeyword[\"auditors\"]\n",
    "#parseDoc(filings,csvData,metalKeywords,auditKeywords)\n",
    "t = searchApiCall(params,csvData,metalKeywords,auditKeywords)"
   ]
  },
  {
   "cell_type": "code",
   "execution_count": 125,
   "id": "98124184",
   "metadata": {},
   "outputs": [
    {
     "name": "stdout",
     "output_type": "stream",
     "text": [
      "MICROSOFT CORP (MSFT) (CIK 0000789019)\n",
      "MICROSOFT CORP (MSFT) (CIK 0000789019)\n",
      "Nutanix, Inc. (NTNX) (CIK 0001618732)\n",
      "SIGNET JEWELERS LTD (SIG) (CIK 0000832988)\n",
      "908 Devices Inc. (MASS) (CIK 0001555279)\n",
      "SPX Technologies, Inc. (SPXC) (CIK 0000088205)\n",
      "MATTEL INC /DE/ (MAT) (CIK 0000063276)\n"
     ]
    }
   ],
   "source": [
    "\n",
    "params = {\n",
    "  \"query\": mineralKeyword[\"companies\"][1] ,\n",
    "  \"formTypes\": mineralKeyword[\"formTypes\"],\n",
    "}\n",
    "params\n",
    "t2 = searchApiCall(params,csvData,metalKeywords,auditKeywords)"
   ]
  },
  {
   "cell_type": "code",
   "execution_count": 127,
   "id": "84ac4efb",
   "metadata": {},
   "outputs": [
    {
     "data": {
      "text/html": [
       "<div>\n",
       "<style scoped>\n",
       "    .dataframe tbody tr th:only-of-type {\n",
       "        vertical-align: middle;\n",
       "    }\n",
       "\n",
       "    .dataframe tbody tr th {\n",
       "        vertical-align: top;\n",
       "    }\n",
       "\n",
       "    .dataframe thead th {\n",
       "        text-align: right;\n",
       "    }\n",
       "</style>\n",
       "<table border=\"1\" class=\"dataframe\">\n",
       "  <thead>\n",
       "    <tr style=\"text-align: right;\">\n",
       "      <th></th>\n",
       "      <th>companyName</th>\n",
       "      <th>filingDate</th>\n",
       "      <th>tableMineralArray</th>\n",
       "      <th>auditors</th>\n",
       "      <th>filingUrl</th>\n",
       "      <th>cik</th>\n",
       "      <th>accessionNo</th>\n",
       "    </tr>\n",
       "  </thead>\n",
       "  <tbody>\n",
       "    <tr>\n",
       "      <th>0</th>\n",
       "      <td>Tesla, Inc. (TSLA) (CIK 0001318605)</td>\n",
       "      <td>2024-05-31</td>\n",
       "      <td>[Tin, Gold]</td>\n",
       "      <td>[Responsible Minerals Initiative, RMI, Respons...</td>\n",
       "      <td>https://www.sec.gov/Archives/edgar/data/131860...</td>\n",
       "      <td>1318605</td>\n",
       "      <td>0001104659-24-067119</td>\n",
       "    </tr>\n",
       "    <tr>\n",
       "      <th>1</th>\n",
       "      <td>Tesla, Inc. (TSLA) (CIK 0001318605)</td>\n",
       "      <td>2024-05-31</td>\n",
       "      <td>[no table metals found]</td>\n",
       "      <td>[no auditors found]</td>\n",
       "      <td>https://www.sec.gov/Archives/edgar/data/131860...</td>\n",
       "      <td>1318605</td>\n",
       "      <td>0001104659-24-067119</td>\n",
       "    </tr>\n",
       "    <tr>\n",
       "      <th>2</th>\n",
       "      <td>Vizio Holding Corp. (VZIO) (CIK 0001835591)</td>\n",
       "      <td>2024-05-31</td>\n",
       "      <td>[no table metals found]</td>\n",
       "      <td>[Responsible Minerals Initiative, RMI, Respons...</td>\n",
       "      <td>https://www.sec.gov/Archives/edgar/data/183559...</td>\n",
       "      <td>1835591</td>\n",
       "      <td>0001835591-24-000046</td>\n",
       "    </tr>\n",
       "    <tr>\n",
       "      <th>3</th>\n",
       "      <td>Tesla, Inc. (TSLA) (CIK 0001318605)</td>\n",
       "      <td>2024-05-31</td>\n",
       "      <td>[Tin, Gold]</td>\n",
       "      <td>[Responsible Minerals Initiative, RMI, Respons...</td>\n",
       "      <td>https://www.sec.gov/Archives/edgar/data/131860...</td>\n",
       "      <td>1318605</td>\n",
       "      <td>0001104659-24-067119</td>\n",
       "    </tr>\n",
       "    <tr>\n",
       "      <th>4</th>\n",
       "      <td>Tesla, Inc. (TSLA) (CIK 0001318605)</td>\n",
       "      <td>2024-05-31</td>\n",
       "      <td>[no table metals found]</td>\n",
       "      <td>[no auditors found]</td>\n",
       "      <td>https://www.sec.gov/Archives/edgar/data/131860...</td>\n",
       "      <td>1318605</td>\n",
       "      <td>0001104659-24-067119</td>\n",
       "    </tr>\n",
       "    <tr>\n",
       "      <th>5</th>\n",
       "      <td>Vizio Holding Corp. (VZIO) (CIK 0001835591)</td>\n",
       "      <td>2024-05-31</td>\n",
       "      <td>[no table metals found]</td>\n",
       "      <td>[Responsible Minerals Initiative, RMI, Respons...</td>\n",
       "      <td>https://www.sec.gov/Archives/edgar/data/183559...</td>\n",
       "      <td>1835591</td>\n",
       "      <td>0001835591-24-000046</td>\n",
       "    </tr>\n",
       "    <tr>\n",
       "      <th>6</th>\n",
       "      <td>Tesla, Inc. (TSLA) (CIK 0001318605)</td>\n",
       "      <td>2024-05-31</td>\n",
       "      <td>[Tin, Gold]</td>\n",
       "      <td>[Responsible Minerals Initiative, RMI, Respons...</td>\n",
       "      <td>https://www.sec.gov/Archives/edgar/data/131860...</td>\n",
       "      <td>1318605</td>\n",
       "      <td>0001104659-24-067119</td>\n",
       "    </tr>\n",
       "    <tr>\n",
       "      <th>7</th>\n",
       "      <td>Tesla, Inc. (TSLA) (CIK 0001318605)</td>\n",
       "      <td>2024-05-31</td>\n",
       "      <td>[no table metals found]</td>\n",
       "      <td>[no auditors found]</td>\n",
       "      <td>https://www.sec.gov/Archives/edgar/data/131860...</td>\n",
       "      <td>1318605</td>\n",
       "      <td>0001104659-24-067119</td>\n",
       "    </tr>\n",
       "    <tr>\n",
       "      <th>8</th>\n",
       "      <td>Vizio Holding Corp. (VZIO) (CIK 0001835591)</td>\n",
       "      <td>2024-05-31</td>\n",
       "      <td>[no table metals found]</td>\n",
       "      <td>[Responsible Minerals Initiative, RMI, Respons...</td>\n",
       "      <td>https://www.sec.gov/Archives/edgar/data/183559...</td>\n",
       "      <td>1835591</td>\n",
       "      <td>0001835591-24-000046</td>\n",
       "    </tr>\n",
       "    <tr>\n",
       "      <th>9</th>\n",
       "      <td>MICROSOFT CORP (MSFT) (CIK 0000789019)</td>\n",
       "      <td>2024-05-31</td>\n",
       "      <td>[Tin, Gold]</td>\n",
       "      <td>[Responsible Minerals Initiative, RMI, RBA]</td>\n",
       "      <td>https://www.sec.gov/Archives/edgar/data/789019...</td>\n",
       "      <td>789019</td>\n",
       "      <td>0001193125-24-151324</td>\n",
       "    </tr>\n",
       "    <tr>\n",
       "      <th>10</th>\n",
       "      <td>MICROSOFT CORP (MSFT) (CIK 0000789019)</td>\n",
       "      <td>2024-05-31</td>\n",
       "      <td>[no table metals found]</td>\n",
       "      <td>[no auditors found]</td>\n",
       "      <td>https://www.sec.gov/Archives/edgar/data/789019...</td>\n",
       "      <td>789019</td>\n",
       "      <td>0001193125-24-151324</td>\n",
       "    </tr>\n",
       "    <tr>\n",
       "      <th>11</th>\n",
       "      <td>Nutanix, Inc. (NTNX) (CIK 0001618732)</td>\n",
       "      <td>2024-05-30</td>\n",
       "      <td>[no table metals found]</td>\n",
       "      <td>[Responsible Minerals Initiative, RMI, Respons...</td>\n",
       "      <td>https://www.sec.gov/Archives/edgar/data/161873...</td>\n",
       "      <td>1618732</td>\n",
       "      <td>0000950170-24-066728</td>\n",
       "    </tr>\n",
       "    <tr>\n",
       "      <th>12</th>\n",
       "      <td>SIGNET JEWELERS LTD (SIG) (CIK 0000832988)</td>\n",
       "      <td>2024-05-29</td>\n",
       "      <td>[no table metals found]</td>\n",
       "      <td>[Responsible Minerals Initiative, RMI]</td>\n",
       "      <td>https://www.sec.gov/Archives/edgar/data/832988...</td>\n",
       "      <td>832988</td>\n",
       "      <td>0000832988-24-000129</td>\n",
       "    </tr>\n",
       "    <tr>\n",
       "      <th>13</th>\n",
       "      <td>908 Devices Inc. (MASS) (CIK 0001555279)</td>\n",
       "      <td>2024-05-30</td>\n",
       "      <td>[Tin, Gold]</td>\n",
       "      <td>[Responsible Minerals Initiative, RMI]</td>\n",
       "      <td>https://www.sec.gov/Archives/edgar/data/155527...</td>\n",
       "      <td>1555279</td>\n",
       "      <td>0001104659-24-066412</td>\n",
       "    </tr>\n",
       "    <tr>\n",
       "      <th>14</th>\n",
       "      <td>SPX Technologies, Inc. (SPXC) (CIK 0000088205)</td>\n",
       "      <td>2024-05-28</td>\n",
       "      <td>[Tin, Gold]</td>\n",
       "      <td>[Responsible Minerals Initiative, RMI]</td>\n",
       "      <td>https://www.sec.gov/Archives/edgar/data/88205/...</td>\n",
       "      <td>88205</td>\n",
       "      <td>0001104659-24-065591</td>\n",
       "    </tr>\n",
       "    <tr>\n",
       "      <th>15</th>\n",
       "      <td>MATTEL INC /DE/ (MAT) (CIK 0000063276)</td>\n",
       "      <td>2024-05-31</td>\n",
       "      <td>[Tin, Gold]</td>\n",
       "      <td>[RMI]</td>\n",
       "      <td>https://www.sec.gov/Archives/edgar/data/63276/...</td>\n",
       "      <td>63276</td>\n",
       "      <td>0001628280-24-026004</td>\n",
       "    </tr>\n",
       "  </tbody>\n",
       "</table>\n",
       "</div>"
      ],
      "text/plain": [
       "                                       companyName  filingDate  \\\n",
       "0              Tesla, Inc. (TSLA) (CIK 0001318605)  2024-05-31   \n",
       "1              Tesla, Inc. (TSLA) (CIK 0001318605)  2024-05-31   \n",
       "2      Vizio Holding Corp. (VZIO) (CIK 0001835591)  2024-05-31   \n",
       "3              Tesla, Inc. (TSLA) (CIK 0001318605)  2024-05-31   \n",
       "4              Tesla, Inc. (TSLA) (CIK 0001318605)  2024-05-31   \n",
       "5      Vizio Holding Corp. (VZIO) (CIK 0001835591)  2024-05-31   \n",
       "6              Tesla, Inc. (TSLA) (CIK 0001318605)  2024-05-31   \n",
       "7              Tesla, Inc. (TSLA) (CIK 0001318605)  2024-05-31   \n",
       "8      Vizio Holding Corp. (VZIO) (CIK 0001835591)  2024-05-31   \n",
       "9           MICROSOFT CORP (MSFT) (CIK 0000789019)  2024-05-31   \n",
       "10          MICROSOFT CORP (MSFT) (CIK 0000789019)  2024-05-31   \n",
       "11           Nutanix, Inc. (NTNX) (CIK 0001618732)  2024-05-30   \n",
       "12      SIGNET JEWELERS LTD (SIG) (CIK 0000832988)  2024-05-29   \n",
       "13        908 Devices Inc. (MASS) (CIK 0001555279)  2024-05-30   \n",
       "14  SPX Technologies, Inc. (SPXC) (CIK 0000088205)  2024-05-28   \n",
       "15          MATTEL INC /DE/ (MAT) (CIK 0000063276)  2024-05-31   \n",
       "\n",
       "          tableMineralArray  \\\n",
       "0               [Tin, Gold]   \n",
       "1   [no table metals found]   \n",
       "2   [no table metals found]   \n",
       "3               [Tin, Gold]   \n",
       "4   [no table metals found]   \n",
       "5   [no table metals found]   \n",
       "6               [Tin, Gold]   \n",
       "7   [no table metals found]   \n",
       "8   [no table metals found]   \n",
       "9               [Tin, Gold]   \n",
       "10  [no table metals found]   \n",
       "11  [no table metals found]   \n",
       "12  [no table metals found]   \n",
       "13              [Tin, Gold]   \n",
       "14              [Tin, Gold]   \n",
       "15              [Tin, Gold]   \n",
       "\n",
       "                                             auditors  \\\n",
       "0   [Responsible Minerals Initiative, RMI, Respons...   \n",
       "1                                 [no auditors found]   \n",
       "2   [Responsible Minerals Initiative, RMI, Respons...   \n",
       "3   [Responsible Minerals Initiative, RMI, Respons...   \n",
       "4                                 [no auditors found]   \n",
       "5   [Responsible Minerals Initiative, RMI, Respons...   \n",
       "6   [Responsible Minerals Initiative, RMI, Respons...   \n",
       "7                                 [no auditors found]   \n",
       "8   [Responsible Minerals Initiative, RMI, Respons...   \n",
       "9         [Responsible Minerals Initiative, RMI, RBA]   \n",
       "10                                [no auditors found]   \n",
       "11  [Responsible Minerals Initiative, RMI, Respons...   \n",
       "12             [Responsible Minerals Initiative, RMI]   \n",
       "13             [Responsible Minerals Initiative, RMI]   \n",
       "14             [Responsible Minerals Initiative, RMI]   \n",
       "15                                              [RMI]   \n",
       "\n",
       "                                            filingUrl      cik  \\\n",
       "0   https://www.sec.gov/Archives/edgar/data/131860...  1318605   \n",
       "1   https://www.sec.gov/Archives/edgar/data/131860...  1318605   \n",
       "2   https://www.sec.gov/Archives/edgar/data/183559...  1835591   \n",
       "3   https://www.sec.gov/Archives/edgar/data/131860...  1318605   \n",
       "4   https://www.sec.gov/Archives/edgar/data/131860...  1318605   \n",
       "5   https://www.sec.gov/Archives/edgar/data/183559...  1835591   \n",
       "6   https://www.sec.gov/Archives/edgar/data/131860...  1318605   \n",
       "7   https://www.sec.gov/Archives/edgar/data/131860...  1318605   \n",
       "8   https://www.sec.gov/Archives/edgar/data/183559...  1835591   \n",
       "9   https://www.sec.gov/Archives/edgar/data/789019...   789019   \n",
       "10  https://www.sec.gov/Archives/edgar/data/789019...   789019   \n",
       "11  https://www.sec.gov/Archives/edgar/data/161873...  1618732   \n",
       "12  https://www.sec.gov/Archives/edgar/data/832988...   832988   \n",
       "13  https://www.sec.gov/Archives/edgar/data/155527...  1555279   \n",
       "14  https://www.sec.gov/Archives/edgar/data/88205/...    88205   \n",
       "15  https://www.sec.gov/Archives/edgar/data/63276/...    63276   \n",
       "\n",
       "             accessionNo  \n",
       "0   0001104659-24-067119  \n",
       "1   0001104659-24-067119  \n",
       "2   0001835591-24-000046  \n",
       "3   0001104659-24-067119  \n",
       "4   0001104659-24-067119  \n",
       "5   0001835591-24-000046  \n",
       "6   0001104659-24-067119  \n",
       "7   0001104659-24-067119  \n",
       "8   0001835591-24-000046  \n",
       "9   0001193125-24-151324  \n",
       "10  0001193125-24-151324  \n",
       "11  0000950170-24-066728  \n",
       "12  0000832988-24-000129  \n",
       "13  0001104659-24-066412  \n",
       "14  0001104659-24-065591  \n",
       "15  0001628280-24-026004  "
      ]
     },
     "execution_count": 127,
     "metadata": {},
     "output_type": "execute_result"
    }
   ],
   "source": [
    "# next step build a for loop to loop through company names and then export ot csv "
   ]
  },
  {
   "cell_type": "code",
   "execution_count": null,
   "id": "e9df7032",
   "metadata": {},
   "outputs": [],
   "source": []
  },
  {
   "cell_type": "markdown",
   "id": "d2c184e9",
   "metadata": {},
   "source": [
    "Some additional options"
   ]
  },
  {
   "cell_type": "code",
   "execution_count": 75,
   "id": "b6e114bb-ab2b-4f56-829a-4b7c7eb9a2cf",
   "metadata": {},
   "outputs": [
    {
     "name": "stdout",
     "output_type": "stream",
     "text": [
      "69247\n",
      "-1\n",
      "-1\n"
     ]
    }
   ],
   "source": [
    "t1 = doc_html.lower().find('>metal<') # seems like the table are broken across separate pages \n",
    "t2 = doc_html[t1:].find('</table>')\n",
    "t3 = doc_html[t2:].lower().find('>metal<')\n",
    "print(t1)\n",
    "print(t2)\n",
    "print(t3)"
   ]
  },
  {
   "cell_type": "code",
   "execution_count": null,
   "id": "d3e54aa6-8f88-4b33-b362-179a9cac511b",
   "metadata": {},
   "outputs": [],
   "source": [
    "display(HTML(doc_html[(t1-1000):(t1+t2)]))"
   ]
  },
  {
   "cell_type": "code",
   "execution_count": null,
   "id": "d803e87a-60ed-42c7-a0c2-e2ab7ebfeaa4",
   "metadata": {},
   "outputs": [],
   "source": [
    "doc_html[(doc_html.find('gold')-100):(doc_html.find('gold')+100)]"
   ]
  },
  {
   "cell_type": "code",
   "execution_count": null,
   "id": "198bc4be-d31c-44c7-9ca5-b838e6e32a40",
   "metadata": {},
   "outputs": [],
   "source": [
    "test_sub = '</table>'\n",
    "test_str = doc_html"
   ]
  },
  {
   "cell_type": "code",
   "execution_count": null,
   "id": "d7636402-0a1f-44fc-91ab-b32e0300c6c6",
   "metadata": {},
   "outputs": [],
   "source": [
    "res=[] \n",
    "while(test_str.find(test_sub)!=-1): \n",
    "    res.append(test_str.find(test_sub)) \n",
    "    test_str=test_str.replace(test_sub,\"*\"*len(test_sub),1) "
   ]
  },
  {
   "cell_type": "code",
   "execution_count": null,
   "id": "d355b423-e52d-40d0-8014-709a5c7cd350",
   "metadata": {},
   "outputs": [],
   "source": [
    "res"
   ]
  },
  {
   "cell_type": "code",
   "execution_count": null,
   "id": "9f882273-b223-46bb-84d8-096ba8ca5323",
   "metadata": {},
   "outputs": [],
   "source": [
    "display(HTML(doc_html[res[0]:res[1]]))  "
   ]
  },
  {
   "cell_type": "code",
   "execution_count": null,
   "id": "84fc9c18-d493-4c46-8ff3-678da31254ea",
   "metadata": {},
   "outputs": [],
   "source": [
    "res\n",
    "for i in range(len(res)): \n",
    "    #print(doc_html[(res[i]-1000):(res[i]+1000)])\n",
    "    display(HTML(doc_html[(res[i]):(res[i+1])]))\n",
    "    \n",
    "    "
   ]
  },
  {
   "cell_type": "markdown",
   "id": "aef89a47-8d19-495f-af53-f57a33cf9f33",
   "metadata": {
    "jp-MarkdownHeadingCollapsed": true
   },
   "source": [
    "# JUNK "
   ]
  },
  {
   "cell_type": "code",
   "execution_count": null,
   "id": "c977ac2e-e503-4232-8e8d-a798eed6c3cc",
   "metadata": {},
   "outputs": [],
   "source": [
    "from sec_api import QueryApi\n",
    "qa = QueryApi(api_key=key)"
   ]
  },
  {
   "cell_type": "code",
   "execution_count": null,
   "id": "eeaa73c2-e0fc-416f-9fab-5585b479c490",
   "metadata": {},
   "outputs": [],
   "source": [
    "query = {\n",
    "  \"query\": \"formType:SD AND companyName:Apple\",\n",
    "  \"from\": \"0\",\n",
    "  \"size\": \"200\",\n",
    "  \"sort\": [{ \"filedAt\": { \"order\": \"desc\" } }]\n",
    "}\n"
   ]
  },
  {
   "cell_type": "code",
   "execution_count": null,
   "id": "6f900402-06ea-466d-a815-1a249a63b1c8",
   "metadata": {},
   "outputs": [],
   "source": [
    "response = qa.get_filings(query)"
   ]
  },
  {
   "cell_type": "code",
   "execution_count": null,
   "id": "09ab52d7-102d-4ffb-a359-9c13b7349804",
   "metadata": {},
   "outputs": [],
   "source": []
  }
 ],
 "metadata": {
  "kernelspec": {
   "display_name": "Python 3 (ipykernel)",
   "language": "python",
   "name": "python3"
  },
  "language_info": {
   "codemirror_mode": {
    "name": "ipython",
    "version": 3
   },
   "file_extension": ".py",
   "mimetype": "text/x-python",
   "name": "python",
   "nbconvert_exporter": "python",
   "pygments_lexer": "ipython3",
   "version": "3.12.0"
  }
 },
 "nbformat": 4,
 "nbformat_minor": 5
}
